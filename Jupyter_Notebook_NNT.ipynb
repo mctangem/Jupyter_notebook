{
 "cells": [
  {
   "cell_type": "markdown",
   "metadata": {},
   "source": [
    "<center>\n",
    "    <img src=\"https://cf-courses-data.s3.us.cloud-object-storage.appdomain.cloud/IBMDeveloperSkillsNetwork-DS0105EN-SkillsNetwork/labs/Module2/images/SN_web_lightmode.png\" width=\"300\" alt=\"cognitiveclass.ai logo\">\n",
    "</center>\n"
   ]
  },
  {
   "cell_type": "markdown",
   "metadata": {},
   "source": [
    "#### Add your code below following the instructions given in the course\n"
   ]
  },
  {
   "cell_type": "markdown",
   "metadata": {},
   "source": [
    "# My Assignment "
   ]
  },
  {
   "cell_type": "markdown",
   "metadata": {},
   "source": [
    "**Introduction**\n",
    "\n",
    "Data science is the science of data. It is a career field wherein there is the collection, exploration, visualization, and interpretation of data for the purpose of better policy implementation and proper predictions. "
   ]
  },
  {
   "cell_type": "markdown",
   "metadata": {},
   "source": [
    "### List of Data science languages ###\n",
    "\n",
    " - Phython\n",
    " - R\n",
    " - Julia\n"
   ]
  },
  {
   "cell_type": "markdown",
   "metadata": {},
   "source": [
    "### List of data science libraries ###\n",
    "\n",
    " - NumPy\n",
    " - TensorFlow\n",
    " - Pandas\n",
    " - Matplotlib\n",
    " - PyTorch"
   ]
  },
  {
   "cell_type": "markdown",
   "metadata": {},
   "source": [
    "### List of Data Science Tools ###\n",
    "\n",
    " Tool | Category\n",
    " -----|-----\n",
    " Apache Hadoop| Open-Source\n",
    " Tableau | Visualization/commercial source\n",
    " MySQL | Open-Source\n",
    " Informatica | Cloud\n",
    " SAS | Commercial source\n",
    " Power BI | Visualization\n",
    " Jupyter | Open source\n",
    " "
   ]
  },
  {
   "cell_type": "markdown",
   "metadata": {},
   "source": [
    "The sum of the total amount of sales made in two days"
   ]
  },
  {
   "cell_type": "code",
   "execution_count": 5,
   "metadata": {},
   "outputs": [
    {
     "name": "stdout",
     "output_type": "stream",
     "text": [
      "5000\n"
     ]
    }
   ],
   "source": [
    "# books = 4 * 500\n",
    "# Pens = 30 * 100\n",
    "print((4 * 500) + (30 * 100))"
   ]
  },
  {
   "cell_type": "code",
   "execution_count": 2,
   "metadata": {},
   "outputs": [
    {
     "name": "stdout",
     "output_type": "stream",
     "text": [
      "Time in preferred format :- 02:46:40\n"
     ]
    }
   ],
   "source": [
    "import time\n",
    "n=10000\n",
    "time_format = time.strftime(\"%H:%M:%S\", time.gmtime(n))\n",
    "print(\"Time in preferred format :-\",time_format)\n"
   ]
  },
  {
   "cell_type": "markdown",
   "metadata": {},
   "source": [
    "**List of objectives**\n",
    "\n",
    " - Master Jupyter lab\n",
    " - Master python language\n",
    " - Master data science methodology "
   ]
  },
  {
   "cell_type": "markdown",
   "metadata": {},
   "source": [
    "**NDI NOEL TANGEM**\n",
    "\n",
    "AUTHOR"
   ]
  },
  {
   "cell_type": "code",
   "execution_count": null,
   "metadata": {},
   "outputs": [],
   "source": []
  }
 ],
 "metadata": {
  "kernelspec": {
   "display_name": "Python",
   "language": "python",
   "name": "conda-env-python-py"
  },
  "language_info": {
   "codemirror_mode": {
    "name": "ipython",
    "version": 3
   },
   "file_extension": ".py",
   "mimetype": "text/x-python",
   "name": "python",
   "nbconvert_exporter": "python",
   "pygments_lexer": "ipython3",
   "version": "3.7.12"
  }
 },
 "nbformat": 4,
 "nbformat_minor": 4
}
